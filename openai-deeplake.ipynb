{
 "cells": [
  {
   "cell_type": "code",
   "execution_count": 12,
   "metadata": {},
   "outputs": [
    {
     "data": {
      "text/plain": [
       "True"
      ]
     },
     "execution_count": 12,
     "metadata": {},
     "output_type": "execute_result"
    }
   ],
   "source": [
    "from dotenv import load_dotenv\n",
    "load_dotenv()"
   ]
  },
  {
   "cell_type": "code",
   "execution_count": 13,
   "metadata": {},
   "outputs": [],
   "source": [
    "from langchain.embeddings.openai import OpenAIEmbeddings\n",
    "\n",
    "embeddings = OpenAIEmbeddings(disallowed_special=())"
   ]
  },
  {
   "cell_type": "code",
   "execution_count": 15,
   "metadata": {},
   "outputs": [],
   "source": [
    "import os\n",
    "from langchain.document_loaders import TextLoader\n",
    "from langchain.text_splitter import RecursiveCharacterTextSplitter\n",
    "\n",
    "root_dir = \"./eng-feed\"\n",
    "aws_dir = \"./eng-feed/src/aws/lib\"\n",
    "lambda_dir = \"./eng-feed/src/aws/backend/lambda\"\n",
    "db_dir = \"./eng-feed/src/aws/backend/db\"\n",
    "pages_dir = \"./eng-feed/src/pages\"\n",
    "components_dir = \"./eng-feed/src/components\"\n",
    "\n",
    "docs = []\n",
    "for directory in [aws_dir, lambda_dir, db_dir, pages_dir, components_dir]:\n",
    "    for dirpath, dirnames, filenames in os.walk(directory):\n",
    "        for file in filenames:\n",
    "            try:\n",
    "                loader = TextLoader(os.path.join(dirpath, file), encoding=\"utf-8\")\n",
    "                docs.extend(loader.load_and_split())\n",
    "            except Exception as e:\n",
    "                print(e)\n",
    "                pass\n",
    "\n",
    "text_splitter = RecursiveCharacterTextSplitter(\n",
    "    chunk_size=1000,\n",
    "    chunk_overlap=0,\n",
    ")\n",
    "code = text_splitter.split_documents(docs)\n",
    "\n",
    "    "
   ]
  },
  {
   "cell_type": "code",
   "execution_count": 17,
   "metadata": {},
   "outputs": [],
   "source": [
    "from langchain.vectorstores import DeepLake\n",
    "\n",
    "deeplake_username = \"haffimazhar96\"\n",
    "deeplake_db = \"code-search\""
   ]
  },
  {
   "cell_type": "code",
   "execution_count": 18,
   "metadata": {},
   "outputs": [
    {
     "name": "stdout",
     "output_type": "stream",
     "text": [
      "Your Deep Lake dataset has been successfully created!\n"
     ]
    },
    {
     "name": "stderr",
     "output_type": "stream",
     "text": [
      "creating embeddings: 100%|██████████| 1/1 [00:08<00:00,  8.74s/it]"
     ]
    },
    {
     "name": "stdout",
     "output_type": "stream",
     "text": [
      "Dataset(path='hub://haffimazhar96/code-search', tensors=['text', 'metadata', 'embedding', 'id'])\n",
      "\n",
      "  tensor      htype       shape      dtype  compression\n",
      "  -------    -------     -------    -------  ------- \n",
      "   text       text      (125, 1)      str     None   \n",
      " metadata     json      (125, 1)      str     None   \n",
      " embedding  embedding  (125, 1536)  float32   None   \n",
      "    id        text      (125, 1)      str     None   \n"
     ]
    },
    {
     "name": "stderr",
     "output_type": "stream",
     "text": [
      "\n"
     ]
    },
    {
     "data": {
      "text/plain": [
       "['433535b4-7be6-11ee-befb-e24bee7314b9',\n",
       " '433537ee-7be6-11ee-befb-e24bee7314b9',\n",
       " '4335383e-7be6-11ee-befb-e24bee7314b9',\n",
       " '43353870-7be6-11ee-befb-e24bee7314b9',\n",
       " '433538ac-7be6-11ee-befb-e24bee7314b9',\n",
       " '433538de-7be6-11ee-befb-e24bee7314b9',\n",
       " '43353910-7be6-11ee-befb-e24bee7314b9',\n",
       " '433539a6-7be6-11ee-befb-e24bee7314b9',\n",
       " '433539e2-7be6-11ee-befb-e24bee7314b9',\n",
       " '43353a14-7be6-11ee-befb-e24bee7314b9',\n",
       " '43353a46-7be6-11ee-befb-e24bee7314b9',\n",
       " '43353a82-7be6-11ee-befb-e24bee7314b9',\n",
       " '43353aaa-7be6-11ee-befb-e24bee7314b9',\n",
       " '43353adc-7be6-11ee-befb-e24bee7314b9',\n",
       " '43353b04-7be6-11ee-befb-e24bee7314b9',\n",
       " '43353b36-7be6-11ee-befb-e24bee7314b9',\n",
       " '43353b5e-7be6-11ee-befb-e24bee7314b9',\n",
       " '43353b90-7be6-11ee-befb-e24bee7314b9',\n",
       " '43353bc2-7be6-11ee-befb-e24bee7314b9',\n",
       " '43353bf4-7be6-11ee-befb-e24bee7314b9',\n",
       " '43353c1c-7be6-11ee-befb-e24bee7314b9',\n",
       " '43353c4e-7be6-11ee-befb-e24bee7314b9',\n",
       " '43353c80-7be6-11ee-befb-e24bee7314b9',\n",
       " '43353ca8-7be6-11ee-befb-e24bee7314b9',\n",
       " '43353cd0-7be6-11ee-befb-e24bee7314b9',\n",
       " '43353d02-7be6-11ee-befb-e24bee7314b9',\n",
       " '43353d34-7be6-11ee-befb-e24bee7314b9',\n",
       " '43353d66-7be6-11ee-befb-e24bee7314b9',\n",
       " '43353d8e-7be6-11ee-befb-e24bee7314b9',\n",
       " '43353dc0-7be6-11ee-befb-e24bee7314b9',\n",
       " '43353de8-7be6-11ee-befb-e24bee7314b9',\n",
       " '43353e1a-7be6-11ee-befb-e24bee7314b9',\n",
       " '43353e42-7be6-11ee-befb-e24bee7314b9',\n",
       " '43353e74-7be6-11ee-befb-e24bee7314b9',\n",
       " '43353ea6-7be6-11ee-befb-e24bee7314b9',\n",
       " '43353ed8-7be6-11ee-befb-e24bee7314b9',\n",
       " '43353f00-7be6-11ee-befb-e24bee7314b9',\n",
       " '43353f32-7be6-11ee-befb-e24bee7314b9',\n",
       " '43353f64-7be6-11ee-befb-e24bee7314b9',\n",
       " '43353f96-7be6-11ee-befb-e24bee7314b9',\n",
       " '43353fc8-7be6-11ee-befb-e24bee7314b9',\n",
       " '43353ffa-7be6-11ee-befb-e24bee7314b9',\n",
       " '4335402c-7be6-11ee-befb-e24bee7314b9',\n",
       " '43354054-7be6-11ee-befb-e24bee7314b9',\n",
       " '43354086-7be6-11ee-befb-e24bee7314b9',\n",
       " '433540b8-7be6-11ee-befb-e24bee7314b9',\n",
       " '433540ea-7be6-11ee-befb-e24bee7314b9',\n",
       " '43354112-7be6-11ee-befb-e24bee7314b9',\n",
       " '4335413a-7be6-11ee-befb-e24bee7314b9',\n",
       " '4335416c-7be6-11ee-befb-e24bee7314b9',\n",
       " '43354194-7be6-11ee-befb-e24bee7314b9',\n",
       " '433541bc-7be6-11ee-befb-e24bee7314b9',\n",
       " '433541ee-7be6-11ee-befb-e24bee7314b9',\n",
       " '43354216-7be6-11ee-befb-e24bee7314b9',\n",
       " '43354248-7be6-11ee-befb-e24bee7314b9',\n",
       " '43354270-7be6-11ee-befb-e24bee7314b9',\n",
       " '433542a2-7be6-11ee-befb-e24bee7314b9',\n",
       " '433542ca-7be6-11ee-befb-e24bee7314b9',\n",
       " '433542fc-7be6-11ee-befb-e24bee7314b9',\n",
       " '4335432e-7be6-11ee-befb-e24bee7314b9',\n",
       " '43354356-7be6-11ee-befb-e24bee7314b9',\n",
       " '4335437e-7be6-11ee-befb-e24bee7314b9',\n",
       " '433543b0-7be6-11ee-befb-e24bee7314b9',\n",
       " '433543d8-7be6-11ee-befb-e24bee7314b9',\n",
       " '43354400-7be6-11ee-befb-e24bee7314b9',\n",
       " '4335443c-7be6-11ee-befb-e24bee7314b9',\n",
       " '4335446e-7be6-11ee-befb-e24bee7314b9',\n",
       " '43354496-7be6-11ee-befb-e24bee7314b9',\n",
       " '433544c8-7be6-11ee-befb-e24bee7314b9',\n",
       " '433544f0-7be6-11ee-befb-e24bee7314b9',\n",
       " '43354518-7be6-11ee-befb-e24bee7314b9',\n",
       " '4335454a-7be6-11ee-befb-e24bee7314b9',\n",
       " '43354572-7be6-11ee-befb-e24bee7314b9',\n",
       " '433545a4-7be6-11ee-befb-e24bee7314b9',\n",
       " '433545cc-7be6-11ee-befb-e24bee7314b9',\n",
       " '433545f4-7be6-11ee-befb-e24bee7314b9',\n",
       " '43354626-7be6-11ee-befb-e24bee7314b9',\n",
       " '43354658-7be6-11ee-befb-e24bee7314b9',\n",
       " '43354680-7be6-11ee-befb-e24bee7314b9',\n",
       " '433546b2-7be6-11ee-befb-e24bee7314b9',\n",
       " '433546e4-7be6-11ee-befb-e24bee7314b9',\n",
       " '4335470c-7be6-11ee-befb-e24bee7314b9',\n",
       " '43354734-7be6-11ee-befb-e24bee7314b9',\n",
       " '43354766-7be6-11ee-befb-e24bee7314b9',\n",
       " '4335478e-7be6-11ee-befb-e24bee7314b9',\n",
       " '433547b6-7be6-11ee-befb-e24bee7314b9',\n",
       " '433547de-7be6-11ee-befb-e24bee7314b9',\n",
       " '43354810-7be6-11ee-befb-e24bee7314b9',\n",
       " '43354842-7be6-11ee-befb-e24bee7314b9',\n",
       " '4335486a-7be6-11ee-befb-e24bee7314b9',\n",
       " '43354892-7be6-11ee-befb-e24bee7314b9',\n",
       " '433548c4-7be6-11ee-befb-e24bee7314b9',\n",
       " '433548f6-7be6-11ee-befb-e24bee7314b9',\n",
       " '43354928-7be6-11ee-befb-e24bee7314b9',\n",
       " '43354950-7be6-11ee-befb-e24bee7314b9',\n",
       " '43354978-7be6-11ee-befb-e24bee7314b9',\n",
       " '433549aa-7be6-11ee-befb-e24bee7314b9',\n",
       " '433549d2-7be6-11ee-befb-e24bee7314b9',\n",
       " '433549fa-7be6-11ee-befb-e24bee7314b9',\n",
       " '43354a2c-7be6-11ee-befb-e24bee7314b9',\n",
       " '43354a54-7be6-11ee-befb-e24bee7314b9',\n",
       " '43354a7c-7be6-11ee-befb-e24bee7314b9',\n",
       " '43354aae-7be6-11ee-befb-e24bee7314b9',\n",
       " '43354ad6-7be6-11ee-befb-e24bee7314b9',\n",
       " '43354b08-7be6-11ee-befb-e24bee7314b9',\n",
       " '43354b30-7be6-11ee-befb-e24bee7314b9',\n",
       " '43354b58-7be6-11ee-befb-e24bee7314b9',\n",
       " '43354b8a-7be6-11ee-befb-e24bee7314b9',\n",
       " '43354bbc-7be6-11ee-befb-e24bee7314b9',\n",
       " '43354bf8-7be6-11ee-befb-e24bee7314b9',\n",
       " '43354c20-7be6-11ee-befb-e24bee7314b9',\n",
       " '43354c52-7be6-11ee-befb-e24bee7314b9',\n",
       " '43354c7a-7be6-11ee-befb-e24bee7314b9',\n",
       " '43354cac-7be6-11ee-befb-e24bee7314b9',\n",
       " '43354cd4-7be6-11ee-befb-e24bee7314b9',\n",
       " '43354cfc-7be6-11ee-befb-e24bee7314b9',\n",
       " '43354d2e-7be6-11ee-befb-e24bee7314b9',\n",
       " '43354d60-7be6-11ee-befb-e24bee7314b9',\n",
       " '43354d88-7be6-11ee-befb-e24bee7314b9',\n",
       " '43354db0-7be6-11ee-befb-e24bee7314b9',\n",
       " '43354dd8-7be6-11ee-befb-e24bee7314b9',\n",
       " '43354e0a-7be6-11ee-befb-e24bee7314b9',\n",
       " '43354e32-7be6-11ee-befb-e24bee7314b9',\n",
       " '43354e64-7be6-11ee-befb-e24bee7314b9',\n",
       " '43354e8c-7be6-11ee-befb-e24bee7314b9']"
      ]
     },
     "execution_count": 18,
     "metadata": {},
     "output_type": "execute_result"
    }
   ],
   "source": [
    "db = DeepLake(\n",
    "    dataset_path=f\"hub://{deeplake_username}/{deeplake_db}\",\n",
    "    embedding=embeddings,\n",
    ")\n",
    "db.add_documents(code)"
   ]
  },
  {
   "cell_type": "code",
   "execution_count": 19,
   "metadata": {},
   "outputs": [
    {
     "name": "stdout",
     "output_type": "stream",
     "text": [
      "Deep Lake Dataset in hub://haffimazhar96/code-search already exists, loading from the storage\n"
     ]
    }
   ],
   "source": [
    "db = DeepLake(\n",
    "    dataset_path=f\"hub://{deeplake_username}/{deeplake_db}\",\n",
    "    read_only=True,\n",
    "    embedding=embeddings,\n",
    ")"
   ]
  },
  {
   "cell_type": "code",
   "execution_count": 20,
   "metadata": {},
   "outputs": [],
   "source": [
    "retriever = db.as_retriever()\n",
    "retriever.search_kwargs[\"distance_metric\"] = \"cos\"\n",
    "retriever.search_kwargs[\"fetch_k\"] = 100\n",
    "retriever.search_kwargs[\"maximal_marginal_relevance\"] = True\n",
    "retriever.search_kwargs[\"k\"] = 10"
   ]
  },
  {
   "cell_type": "code",
   "execution_count": 21,
   "metadata": {},
   "outputs": [],
   "source": [
    "from langchain.chat_models import ChatOpenAI\n",
    "from langchain.chains import RetrievalQA\n",
    "\n",
    "model = ChatOpenAI(model_name=\"gpt-3.5-turbo-0613\")  # switch to 'gpt-4'\n",
    "qa = RetrievalQA.from_llm(model, retriever=retriever)"
   ]
  },
  {
   "cell_type": "code",
   "execution_count": 23,
   "metadata": {},
   "outputs": [
    {
     "data": {
      "text/plain": [
       "'Users are notified when there is a new post through the \"NotifyUsers\" Lambda function. This function is scheduled to run at a specific time using a cron expression. It fetches the new posts and checks if any users are subscribed to the corresponding blogs. If a user is subscribed, a user post entry is created and the user\\'s unique identifier (userUuid) and the post\\'s unique identifier (postUuid) are added to a Map called \"userIdsToNotify\". Finally, the function returns the Map of userUuids to postUuids, which can be used to send notifications to the users.'"
      ]
     },
     "execution_count": 23,
     "metadata": {},
     "output_type": "execute_result"
    }
   ],
   "source": [
    "query = \"How are users notified when there is a new post?\"\n",
    "qa.run(query)"
   ]
  },
  {
   "cell_type": "code",
   "execution_count": 24,
   "metadata": {},
   "outputs": [
    {
     "data": {
      "text/plain": [
       "'The frontend shows a sidebar component, a layout component with a title, a main section with a theme button, a \"Latest posts\" heading, page navigation buttons, and a list of blog views. It also includes a sign in button or a profile image and a sign out button depending on whether the user is logged in or not. Additionally, there are buttons to toggle the visibility of the sidebar and to navigate to previous and next pages.'"
      ]
     },
     "execution_count": 24,
     "metadata": {},
     "output_type": "execute_result"
    }
   ],
   "source": [
    "query = \"What does the frontend show?\"\n",
    "qa.run(query)"
   ]
  },
  {
   "cell_type": "code",
   "execution_count": 25,
   "metadata": {},
   "outputs": [
    {
     "data": {
      "text/plain": [
       "\"The provided pieces of context do not mention where the frontend is hosted. Therefore, I don't have enough information to answer your question.\""
      ]
     },
     "execution_count": 25,
     "metadata": {},
     "output_type": "execute_result"
    }
   ],
   "source": [
    "query = \"Where is the frontend hosted?\"\n",
    "qa.run(query)"
   ]
  },
  {
   "cell_type": "code",
   "execution_count": 26,
   "metadata": {},
   "outputs": [
    {
     "data": {
      "text/plain": [
       "\"To host the frontend on Vercel, you can follow these steps:\\n\\n1. Set up a Vercel account: If you don't have a Vercel account, sign up for one at https://vercel.com/signup.\\n\\n2. Install the Vercel CLI: Open your terminal and run the following command to install the Vercel CLI globally:\\n   ```\\n   npm install -g vercel\\n   ```\\n\\n3. Build your frontend: Make sure your frontend project is ready to be deployed. This typically involves running a build command to generate the production-ready files.\\n\\n4. Navigate to your project directory: Open your terminal and navigate to the root directory of your frontend project.\\n\\n5. Log in to Vercel: Run the following command and follow the prompts to log in to your Vercel account:\\n   ```\\n   vercel login\\n   ```\\n\\n6. Deploy your frontend: Run the following command to deploy your frontend to Vercel:\\n   ```\\n   vercel\\n   ```\\n\\n   The Vercel CLI will guide you through the deployment process. You may be asked to provide some project-specific settings, such as the framework you're using and the build command to run.\\n\\n7. Verify your deployment: Once the deployment is complete, Vercel will provide you with a URL where your frontend is hosted. You can visit this URL to verify that your frontend is successfully deployed.\\n\\nThat's it! Your frontend should now be hosted on Vercel. You can use the provided URL to access your application.\""
      ]
     },
     "execution_count": 26,
     "metadata": {},
     "output_type": "execute_result"
    }
   ],
   "source": [
    "query = \"How could host the frontend on vercel?\"\n",
    "qa.run(query)"
   ]
  }
 ],
 "metadata": {
  "kernelspec": {
   "display_name": ".llm-venv",
   "language": "python",
   "name": "python3"
  },
  "language_info": {
   "codemirror_mode": {
    "name": "ipython",
    "version": 3
   },
   "file_extension": ".py",
   "mimetype": "text/x-python",
   "name": "python",
   "nbconvert_exporter": "python",
   "pygments_lexer": "ipython3",
   "version": "3.11.1"
  }
 },
 "nbformat": 4,
 "nbformat_minor": 2
}
